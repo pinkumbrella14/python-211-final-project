{
 "cells": [
  {
   "cell_type": "markdown",
   "metadata": {},
   "source": [
    "# What are the most listed household appliences within 50 miles of my zip code?"
   ]
  },
  {
   "cell_type": "markdown",
   "metadata": {},
   "source": [
    "I decided to take a look at the household appliances being listed on Craigslist within a 50 mile radius of my zipcode. The problem itself is not necessarily particularly interesting, but it does present an opportunity to practice some of the skills that I've learned over the last couple of months.\n",
    "\n",
    "#### My strategy\n",
    "- Design a web crawler to scrape the Craigslist listing for household appliances within a 50 mile radius\n",
    "- Leverage the fuzzywyzzy python library to match the descriptions of the listed items to a standard 'curated' list of common household appliances\n",
    "- Generate some insight into which items are being listed most commonly and what their asking prices are\n",
    "\n",
    "#### Long term aspirations\n",
    "I would like to continue developing this project, such that eventually I can automatically pull in the listing daily or weekly. This will require a more robust web crawler, as well as a local database to store the updated information. I hope to continue working on this project to get it to that stage :)"
   ]
  },
  {
   "cell_type": "code",
   "execution_count": 1,
   "metadata": {},
   "outputs": [],
   "source": [
    "import numpy as np\n",
    "import pandas as pd\n",
    "import re\n",
    "from fuzzywuzzy import process\n",
    "from operator import itemgetter"
   ]
  },
  {
   "cell_type": "markdown",
   "metadata": {},
   "source": [
    "## Scrape the Craiglist appliances listing"
   ]
  },
  {
   "cell_type": "markdown",
   "metadata": {},
   "source": [
    "Here I am leveraging the BeutifulSoup python library."
   ]
  },
  {
   "cell_type": "code",
   "execution_count": null,
   "metadata": {},
   "outputs": [],
   "source": [
    "#import get to call a get request on the site\n",
    "from requests import get"
   ]
  },
  {
   "cell_type": "code",
   "execution_count": 127,
   "metadata": {},
   "outputs": [],
   "source": [
    "#get the first 120 listing of the east bay housing prices\n",
    "response_1 = get('https://houston.craigslist.org/search/ppa?search_distance=50&postal=77079') \n",
    "\n",
    "#get listings 121 to 240\n",
    "response_2 = get('https://houston.craigslist.org/search/ppa?postal=77079&s=120&search_distance=50')\n",
    "\n",
    "#get the listings 241 to 360\n",
    "response_3 = get('https://houston.craigslist.org/search/ppa?postal=77079&s=240&search_distance=50')\n",
    "\n",
    "#get listings 361 to 480\n",
    "response_4 = get('https://houston.craigslist.org/search/ppa?postal=77079&s=360&search_distance=50')"
   ]
  },
  {
   "cell_type": "markdown",
   "metadata": {},
   "source": [
    "We now need to grab all of the posts, from each of the Craigslist pages, that got captured as a result of the get() function for each of the provided URL. The function below is set up to do that, by first parsing the html text, then finding the correct classes within the html, and lastly capturing the fields of interest - 'title', 'price', and 'data'.\n",
    "\n",
    "The function needs to be executed a total of **four** times to capture all of the listing."
   ]
  },
  {
   "cell_type": "code",
   "execution_count": 181,
   "metadata": {},
   "outputs": [],
   "source": [
    "#create function to grab the posts\n",
    "def grab_posts(response, end_value):   \n",
    "    html_soup = BeautifulSoup(response.text, 'html.parser')\n",
    "    posts = html_soup.find_all('li', class_ = 'result-row')\n",
    "#     return posts_i\n",
    "\n",
    "    print(type(posts))\n",
    "    print(len(posts))\n",
    "    \n",
    "    #get item description, item price, and listing dates for each item\n",
    "    items = []\n",
    "    prices = []\n",
    "    dates = []\n",
    "\n",
    "    for i in range(end_value):\n",
    "        items.append(posts[i].find(class_ = 'result-title hdrlnk').text)\n",
    "        prices.append(posts[i].find(class_ = 'result-price').text)\n",
    "        dates.append(posts[i].find(class_ = 'result-date').text)\n",
    "    print(len(items))\n",
    "        \n",
    "    #create Series from items\n",
    "    items_col = pd.Series(items)\n",
    "\n",
    "    #create Series from prices\n",
    "    prices_col = pd.Series(prices)\n",
    "\n",
    "    #create Series from dates\n",
    "    dates_col = pd.Series(dates)\n",
    "    print(type(dates_col))\n",
    "    \n",
    "    #concatenate\n",
    "    global out_df\n",
    "    out_df = pd.concat([items_col, prices_col, dates_col], axis = 1)\n",
    "    print(out_df.head())\n",
    "    \n",
    "    out_df.rename(columns = {\n",
    "                0: 'item_description',\n",
    "                1: 'price',\n",
    "                2: 'date_listed'\n",
    "            }, inplace = True)\n",
    "    \n",
    "    print(out_df.head())\n",
    "    print(type(out_df))\n",
    "    \n",
    "    return out_df"
   ]
  },
  {
   "cell_type": "markdown",
   "metadata": {},
   "source": [
    "Here, I call the function four times to scrape the data from 4 pages of Craigslist appliance listing. This piece needs further improvement, so that all of the pages can be scraped automatically. I did not have enough time to figure out how to do that. Furthermore, ideally these data would be wirtten directly to a data base, from which the data would later be read into this notebook for analysis. "
   ]
  },
  {
   "cell_type": "code",
   "execution_count": 185,
   "metadata": {},
   "outputs": [
    {
     "name": "stdout",
     "output_type": "stream",
     "text": [
      "<class 'bs4.element.ResultSet'>\n",
      "120\n",
      "120\n",
      "<class 'pandas.core.series.Series'>\n",
      "                                                   0     1       2\n",
      "0                          36\" Thermador gas cooktop  $250  Mar 21\n",
      "1                                       Standing fan   $20  Mar 21\n",
      "2                                  Samsung Gas Dryer  $200  Mar 22\n",
      "3                                 Ultrasonic Cleaner   $30  Apr  2\n",
      "4  Talking Microwave - Hamilton Beach 0.9 cu ft -...   $50  Apr  5\n",
      "                                    item_description price date_listed\n",
      "0                          36\" Thermador gas cooktop  $250      Mar 21\n",
      "1                                       Standing fan   $20      Mar 21\n",
      "2                                  Samsung Gas Dryer  $200      Mar 22\n",
      "3                                 Ultrasonic Cleaner   $30      Apr  2\n",
      "4  Talking Microwave - Hamilton Beach 0.9 cu ft -...   $50      Apr  5\n",
      "<class 'pandas.core.frame.DataFrame'>\n"
     ]
    }
   ],
   "source": [
    "grab_posts(response_1, 120)\n",
    "data_frame_1 = out_df"
   ]
  },
  {
   "cell_type": "code",
   "execution_count": 187,
   "metadata": {},
   "outputs": [
    {
     "name": "stdout",
     "output_type": "stream",
     "text": [
      "<class 'bs4.element.ResultSet'>\n",
      "120\n",
      "120\n",
      "<class 'pandas.core.series.Series'>\n",
      "                                                0     1       2\n",
      "0                            Stainless Steel tray   $25  Mar 23\n",
      "1                                        Tool Box   $10  Apr 12\n",
      "2         LG Inverter Direct Drive Washer & Dryer  $900  Apr  6\n",
      "3  Kenmoreclear Kenmore Refrigerator Water Filter   $18  Mar  3\n",
      "4               Motion activated sensor trash can   $90  Mar  8\n",
      "                                 item_description price date_listed\n",
      "0                            Stainless Steel tray   $25      Mar 23\n",
      "1                                        Tool Box   $10      Apr 12\n",
      "2         LG Inverter Direct Drive Washer & Dryer  $900      Apr  6\n",
      "3  Kenmoreclear Kenmore Refrigerator Water Filter   $18      Mar  3\n",
      "4               Motion activated sensor trash can   $90      Mar  8\n",
      "<class 'pandas.core.frame.DataFrame'>\n"
     ]
    }
   ],
   "source": [
    "grab_posts(response_2, 120)\n",
    "data_frame_2 = out_df"
   ]
  },
  {
   "cell_type": "code",
   "execution_count": 189,
   "metadata": {},
   "outputs": [
    {
     "name": "stdout",
     "output_type": "stream",
     "text": [
      "<class 'bs4.element.ResultSet'>\n",
      "120\n",
      "120\n",
      "<class 'pandas.core.series.Series'>\n",
      "                                     0     1       2\n",
      "0  Jockey Box/ Ice  Bin/ Caja de hielo  $300  Mar 28\n",
      "1  Jockey Box/ Ice  Bin/ Caja de hielo  $300  Mar 28\n",
      "2  Jockey Box/ Ice  Bin/ Caja de hielo  $300  Mar 28\n",
      "3  Jockey Box/ Ice  Bin/ Caja de hielo  $300  Mar 28\n",
      "4                       Dryer for Sale   $60  Mar 28\n",
      "                      item_description price date_listed\n",
      "0  Jockey Box/ Ice  Bin/ Caja de hielo  $300      Mar 28\n",
      "1  Jockey Box/ Ice  Bin/ Caja de hielo  $300      Mar 28\n",
      "2  Jockey Box/ Ice  Bin/ Caja de hielo  $300      Mar 28\n",
      "3  Jockey Box/ Ice  Bin/ Caja de hielo  $300      Mar 28\n",
      "4                       Dryer for Sale   $60      Mar 28\n",
      "<class 'pandas.core.frame.DataFrame'>\n"
     ]
    }
   ],
   "source": [
    "grab_posts(response_3, 120)\n",
    "data_frame_3 = out_df"
   ]
  },
  {
   "cell_type": "code",
   "execution_count": 191,
   "metadata": {},
   "outputs": [
    {
     "name": "stdout",
     "output_type": "stream",
     "text": [
      "<class 'bs4.element.ResultSet'>\n",
      "120\n",
      "120\n",
      "<class 'pandas.core.series.Series'>\n",
      "                                             0     1       2\n",
      "0                       Amana Washer and Dryer  $500  Apr  9\n",
      "1  Free fully functional fridge - pick up only    $0  Apr 13\n",
      "2                            Laundry repair ⚡️   $50  Mar 12\n",
      "3                      Hamilton Change Machine  $300  Mar  6\n",
      "4           Wascomat Washers W74 W75 W124 W184    $1  Mar  6\n",
      "                              item_description price date_listed\n",
      "0                       Amana Washer and Dryer  $500      Apr  9\n",
      "1  Free fully functional fridge - pick up only    $0      Apr 13\n",
      "2                            Laundry repair ⚡️   $50      Mar 12\n",
      "3                      Hamilton Change Machine  $300      Mar  6\n",
      "4           Wascomat Washers W74 W75 W124 W184    $1      Mar  6\n",
      "<class 'pandas.core.frame.DataFrame'>\n"
     ]
    }
   ],
   "source": [
    "grab_posts(response_4, 120)\n",
    "data_frame_4 = out_df"
   ]
  },
  {
   "cell_type": "markdown",
   "metadata": {},
   "source": [
    "These four separate data sets are now combined together into one data frame for analysis."
   ]
  },
  {
   "cell_type": "code",
   "execution_count": 272,
   "metadata": {},
   "outputs": [],
   "source": [
    "#concatenate all of the data sets\n",
    "full_df = pd.concat([data_frame_1, data_frame_2, data_frame_3, data_frame_4])"
   ]
  },
  {
   "cell_type": "code",
   "execution_count": 273,
   "metadata": {},
   "outputs": [
    {
     "data": {
      "text/plain": [
       "(480, 3)"
      ]
     },
     "execution_count": 273,
     "metadata": {},
     "output_type": "execute_result"
    }
   ],
   "source": [
    "full_df.shape"
   ]
  },
  {
   "attachments": {
    "image.png": {
     "image/png": "[encoded data removed]"
    }
   },
   "cell_type": "markdown",
   "metadata": {},
   "source": [
    "## Analysis strategy.\n",
    "\n",
    "Scraping Craigslist is just the beginning of the story - it's interesting to leverage these data tounderstand what items are being listed the most frequently in my area and how much they are being listed for. Application for this analysis can be extended to other areas of Craiglist, such as gaining insight into the distribution of prices of rental listing or different job listings. The appliances are just a starting point!\n",
    "\n",
    "#### A problem that needs to be resolved prior to proceeding.\n",
    "Prior to being able to analyze the data, we need to 'standardize' these listing. Here is why this needs to be done - right now same type of listings are being submitted with wildly different descriptions. Take a look at the example below:\n",
    "\n",
    "![image.png](attachment:image.png)\n",
    "\n",
    "Here a cooler is being listed three times; however, the descriptions are completely different. This presents a problem for analytics, since panda and sklearn libraries will not automatically identify these three listings as being the same object type. **This needs to get fixed before analysis can begin.**"
   ]
  },
  {
   "cell_type": "markdown",
   "metadata": {},
   "source": [
    "## How to standardize the listings?\n",
    "\n",
    "The fuzzywuzzy python library is a string matcing algorithms that uses Levenshtein Distance to calculate the differences between sequences (source: https://pypi.org/project/fuzzywuzzy/). I decided to try and use it here to match the listing to a master list of household appliances that I put together."
   ]
  },
  {
   "cell_type": "markdown",
   "metadata": {},
   "source": [
    "First, the string fields in the data frame need to be cleaned up and formatted. Here, I decided to convert all the descriptions to upper case and convert them to 'string' type, since there are integers/floats present in some of the descriptions. I also remove non-letter characters from the listings (using the re library)."
   ]
  },
  {
   "cell_type": "code",
   "execution_count": 277,
   "metadata": {},
   "outputs": [],
   "source": [
    "full_df['description_upper'] = full_df['item_description'].str.upper()"
   ]
  },
  {
   "cell_type": "code",
   "execution_count": 303,
   "metadata": {},
   "outputs": [],
   "source": [
    "full_df['description_upper'] = full_df['description_upper'].astype(str)"
   ]
  },
  {
   "cell_type": "code",
   "execution_count": 304,
   "metadata": {},
   "outputs": [],
   "source": [
    "full_df['description_upper'] = full_df['description_upper'].apply(lambda x: re.sub(\"[^a-zA-Z]\", \" \", str(x)))"
   ]
  },
  {
   "cell_type": "markdown",
   "metadata": {},
   "source": [
    "The fuzzy match needs to have a 'gold standard' list of items that can be used to match these appliance descriptions to. I put together a list of 'common' household appliances into an Excel file and will use this file in my fuzzy match."
   ]
  },
  {
   "cell_type": "code",
   "execution_count": 219,
   "metadata": {},
   "outputs": [
    {
     "name": "stdout",
     "output_type": "stream",
     "text": [
      "         appliance_name      source\n",
      "0   AIR CONDITIONER      excel list\n",
      "1       AIR IONISER      excel list\n",
      "2      AIR PURIFIER      excel list\n",
      "3    APPLIANCE PLUG      excel list\n",
      "4        AROMA LAMP      excel list\n",
      "(143, 2)\n"
     ]
    }
   ],
   "source": [
    "#import the list of common househod appliances to match again\n",
    "common_app = pd.read_excel('appliance_list.xlsx')\n",
    "common_app['appliance_name'] = common_app['appliance_name'].str.upper()\n",
    "common_app['source'] = 'excel list'\n",
    "print(common_app.head(5))\n",
    "print(common_app.shape)"
   ]
  },
  {
   "cell_type": "markdown",
   "metadata": {},
   "source": [
    "I've gone ahead and applied the same formatting to the appliance list."
   ]
  },
  {
   "cell_type": "code",
   "execution_count": 232,
   "metadata": {},
   "outputs": [],
   "source": [
    "common_app['appliance_name'] = common_app['appliance_name'].astype(str)\n",
    "common_app['appliance_name'] = common_app['appliance_name'].apply(lambda x: re.sub(\"[^a-zA-Z]\", \" \", str(x)))"
   ]
  },
  {
   "cell_type": "markdown",
   "metadata": {},
   "source": [
    "#### Implementing the fuzzy match"
   ]
  },
  {
   "cell_type": "code",
   "execution_count": 282,
   "metadata": {},
   "outputs": [],
   "source": [
    "full_df['matched_description'] = full_df.apply(lambda x: process.extractOne(x['description_upper'],\n",
    "                                                                            common_app['appliance_name']),\n",
    "                                               axis = 1)"
   ]
  },
  {
   "cell_type": "code",
   "execution_count": 283,
   "metadata": {},
   "outputs": [
    {
     "data": {
      "text/html": [
       "<div>\n",
       "<style scoped>\n",
       "    .dataframe tbody tr th:only-of-type {\n",
       "        vertical-align: middle;\n",
       "    }\n",
       "\n",
       "    .dataframe tbody tr th {\n",
       "        vertical-align: top;\n",
       "    }\n",
       "\n",
       "    .dataframe thead th {\n",
       "        text-align: right;\n",
       "    }\n",
       "</style>\n",
       "<table border=\"1\" class=\"dataframe\">\n",
       "  <thead>\n",
       "    <tr style=\"text-align: right;\">\n",
       "      <th></th>\n",
       "      <th>item_description</th>\n",
       "      <th>price</th>\n",
       "      <th>date_listed</th>\n",
       "      <th>description_upper</th>\n",
       "      <th>matched_description</th>\n",
       "    </tr>\n",
       "  </thead>\n",
       "  <tbody>\n",
       "    <tr>\n",
       "      <td>0</td>\n",
       "      <td>36\" Thermador gas cooktop</td>\n",
       "      <td>$250</td>\n",
       "      <td>Mar 21</td>\n",
       "      <td>THERMADOR GAS COOKTOP</td>\n",
       "      <td>( GAS APPLIANCE    , 86, 60)</td>\n",
       "    </tr>\n",
       "    <tr>\n",
       "      <td>1</td>\n",
       "      <td>Standing fan</td>\n",
       "      <td>$20</td>\n",
       "      <td>Mar 21</td>\n",
       "      <td>STANDING FAN</td>\n",
       "      <td>( BOX FAN    , 86, 11)</td>\n",
       "    </tr>\n",
       "    <tr>\n",
       "      <td>2</td>\n",
       "      <td>Samsung Gas Dryer</td>\n",
       "      <td>$200</td>\n",
       "      <td>Mar 22</td>\n",
       "      <td>SAMSUNG GAS DRYER</td>\n",
       "      <td>( FUTON DRYER    , 86, 58)</td>\n",
       "    </tr>\n",
       "    <tr>\n",
       "      <td>3</td>\n",
       "      <td>Ultrasonic Cleaner</td>\n",
       "      <td>$30</td>\n",
       "      <td>Apr  2</td>\n",
       "      <td>ULTRASONIC CLEANER</td>\n",
       "      <td>( BLENDER     , 69, 10)</td>\n",
       "    </tr>\n",
       "    <tr>\n",
       "      <td>4</td>\n",
       "      <td>Talking Microwave - Hamilton Beach 0.9 cu ft -...</td>\n",
       "      <td>$50</td>\n",
       "      <td>Apr  5</td>\n",
       "      <td>TALKING MICROWAVE   HAMILTON BEACH     CU FT  ...</td>\n",
       "      <td>( MICROWAVE OVEN    , 86, 85)</td>\n",
       "    </tr>\n",
       "    <tr>\n",
       "      <td>5</td>\n",
       "      <td>Mr Coffee COFFEE MAKER</td>\n",
       "      <td>$30</td>\n",
       "      <td>Apr  5</td>\n",
       "      <td>MR COFFEE COFFEE MAKER</td>\n",
       "      <td>( COFFEE GRINDER    , 86, 24)</td>\n",
       "    </tr>\n",
       "    <tr>\n",
       "      <td>6</td>\n",
       "      <td>Like New Whirlpool Stainless Refrigerator</td>\n",
       "      <td>$499</td>\n",
       "      <td>Apr  9</td>\n",
       "      <td>LIKE NEW WHIRLPOOL STAINLESS REFRIGERATOR</td>\n",
       "      <td>( REFRIGERATOR     , 90, 101)</td>\n",
       "    </tr>\n",
       "    <tr>\n",
       "      <td>7</td>\n",
       "      <td>27inch Funai TV</td>\n",
       "      <td>$20</td>\n",
       "      <td>Mar  4</td>\n",
       "      <td>INCH FUNAI TV</td>\n",
       "      <td>( KITCHEN STOVE , 46, 114)</td>\n",
       "    </tr>\n",
       "    <tr>\n",
       "      <td>8</td>\n",
       "      <td>GRILL DADDY BBQ grill cleaning tool</td>\n",
       "      <td>$20</td>\n",
       "      <td>Mar 28</td>\n",
       "      <td>GRILL DADDY BBQ GRILL CLEANING TOOL</td>\n",
       "      <td>( CEILING FAN    , 55, 17)</td>\n",
       "    </tr>\n",
       "    <tr>\n",
       "      <td>9</td>\n",
       "      <td>25' Walk in Cooler 9 Doors</td>\n",
       "      <td>$4000</td>\n",
       "      <td>Mar 12</td>\n",
       "      <td>WALK IN COOLER   DOORS</td>\n",
       "      <td>( COOLER     , 90, 28)</td>\n",
       "    </tr>\n",
       "    <tr>\n",
       "      <td>10</td>\n",
       "      <td>Viking Refrigerator/Freezer 42inch</td>\n",
       "      <td>$2995</td>\n",
       "      <td>Mar 14</td>\n",
       "      <td>VIKING REFRIGERATOR FREEZER   INCH</td>\n",
       "      <td>( FREEZER     , 90, 57)</td>\n",
       "    </tr>\n",
       "    <tr>\n",
       "      <td>11</td>\n",
       "      <td>Sub Zero 561 36\" Warranty</td>\n",
       "      <td>$2995</td>\n",
       "      <td>Mar 14</td>\n",
       "      <td>SUB ZERO         WARRANTY</td>\n",
       "      <td>(PRINTER    , 49, 34)</td>\n",
       "    </tr>\n",
       "    <tr>\n",
       "      <td>12</td>\n",
       "      <td>Sub Zero 424 Wine Cooler.</td>\n",
       "      <td>$1995</td>\n",
       "      <td>Mar 14</td>\n",
       "      <td>SUB ZERO     WINE COOLER</td>\n",
       "      <td>( COOLER     , 90, 28)</td>\n",
       "    </tr>\n",
       "    <tr>\n",
       "      <td>13</td>\n",
       "      <td>Antique jacuzzi/CIPREA/shell color</td>\n",
       "      <td>$650</td>\n",
       "      <td>Mar  1</td>\n",
       "      <td>ANTIQUE JACUZZI CIPREA SHELL COLOR</td>\n",
       "      <td>( COOLER     , 66, 28)</td>\n",
       "    </tr>\n",
       "    <tr>\n",
       "      <td>14</td>\n",
       "      <td>Whirlpool refrigerator, cooktop and dishwasher</td>\n",
       "      <td>$350</td>\n",
       "      <td>Mar  4</td>\n",
       "      <td>WHIRLPOOL REFRIGERATOR  COOKTOP AND DISHWASHER</td>\n",
       "      <td>( DISHWASHER     , 90, 42)</td>\n",
       "    </tr>\n",
       "    <tr>\n",
       "      <td>15</td>\n",
       "      <td>Instant pot duo nova 7, ninja blender, kitchen...</td>\n",
       "      <td>$0</td>\n",
       "      <td>Mar  8</td>\n",
       "      <td>INSTANT POT DUO NOVA    NINJA BLENDER  KITCHEN...</td>\n",
       "      <td>( KARAOKE SET    , 86, 72)</td>\n",
       "    </tr>\n",
       "    <tr>\n",
       "      <td>16</td>\n",
       "      <td>JF-63 Nieco Grill for Sale - USED</td>\n",
       "      <td>$4000</td>\n",
       "      <td>Mar 11</td>\n",
       "      <td>JF    NIECO GRILL FOR SALE   USED</td>\n",
       "      <td>( MOUSE, 54, 33)</td>\n",
       "    </tr>\n",
       "    <tr>\n",
       "      <td>17</td>\n",
       "      <td>Wolf 36\"  Vent-hood 900 cfm</td>\n",
       "      <td>$900</td>\n",
       "      <td>Apr  7</td>\n",
       "      <td>WOLF      VENT HOOD     CFM</td>\n",
       "      <td>( EXHAUST HOOD    , 86, 51)</td>\n",
       "    </tr>\n",
       "    <tr>\n",
       "      <td>18</td>\n",
       "      <td>GREAT DEAL: Vinotemp Dual Zone Wine Cooler 140...</td>\n",
       "      <td>$799</td>\n",
       "      <td>Mar 17</td>\n",
       "      <td>GREAT DEAL  VINOTEMP DUAL ZONE WINE COOLER    ...</td>\n",
       "      <td>( EVAPORATIVE COOLER    , 86, 50)</td>\n",
       "    </tr>\n",
       "    <tr>\n",
       "      <td>19</td>\n",
       "      <td>Espresso rancilio silvia</td>\n",
       "      <td>$600</td>\n",
       "      <td>Apr 10</td>\n",
       "      <td>ESPRESSO RANCILIO SILVIA</td>\n",
       "      <td>( TIE PRESS    , 60, 123)</td>\n",
       "    </tr>\n",
       "  </tbody>\n",
       "</table>\n",
       "</div>"
      ],
      "text/plain": [
       "                                     item_description  price date_listed  \\\n",
       "0                           36\" Thermador gas cooktop   $250      Mar 21   \n",
       "1                                        Standing fan    $20      Mar 21   \n",
       "2                                   Samsung Gas Dryer   $200      Mar 22   \n",
       "3                                  Ultrasonic Cleaner    $30      Apr  2   \n",
       "4   Talking Microwave - Hamilton Beach 0.9 cu ft -...    $50      Apr  5   \n",
       "5                              Mr Coffee COFFEE MAKER    $30      Apr  5   \n",
       "6           Like New Whirlpool Stainless Refrigerator   $499      Apr  9   \n",
       "7                                     27inch Funai TV    $20      Mar  4   \n",
       "8                 GRILL DADDY BBQ grill cleaning tool    $20      Mar 28   \n",
       "9                          25' Walk in Cooler 9 Doors  $4000      Mar 12   \n",
       "10                 Viking Refrigerator/Freezer 42inch  $2995      Mar 14   \n",
       "11                          Sub Zero 561 36\" Warranty  $2995      Mar 14   \n",
       "12                          Sub Zero 424 Wine Cooler.  $1995      Mar 14   \n",
       "13                 Antique jacuzzi/CIPREA/shell color   $650      Mar  1   \n",
       "14     Whirlpool refrigerator, cooktop and dishwasher   $350      Mar  4   \n",
       "15  Instant pot duo nova 7, ninja blender, kitchen...     $0      Mar  8   \n",
       "16                  JF-63 Nieco Grill for Sale - USED  $4000      Mar 11   \n",
       "17                        Wolf 36\"  Vent-hood 900 cfm   $900      Apr  7   \n",
       "18  GREAT DEAL: Vinotemp Dual Zone Wine Cooler 140...   $799      Mar 17   \n",
       "19                           Espresso rancilio silvia   $600      Apr 10   \n",
       "\n",
       "                                    description_upper  \\\n",
       "0                               THERMADOR GAS COOKTOP   \n",
       "1                                        STANDING FAN   \n",
       "2                                   SAMSUNG GAS DRYER   \n",
       "3                                  ULTRASONIC CLEANER   \n",
       "4   TALKING MICROWAVE   HAMILTON BEACH     CU FT  ...   \n",
       "5                              MR COFFEE COFFEE MAKER   \n",
       "6           LIKE NEW WHIRLPOOL STAINLESS REFRIGERATOR   \n",
       "7                                       INCH FUNAI TV   \n",
       "8                 GRILL DADDY BBQ GRILL CLEANING TOOL   \n",
       "9                              WALK IN COOLER   DOORS   \n",
       "10                 VIKING REFRIGERATOR FREEZER   INCH   \n",
       "11                          SUB ZERO         WARRANTY   \n",
       "12                          SUB ZERO     WINE COOLER    \n",
       "13                 ANTIQUE JACUZZI CIPREA SHELL COLOR   \n",
       "14     WHIRLPOOL REFRIGERATOR  COOKTOP AND DISHWASHER   \n",
       "15  INSTANT POT DUO NOVA    NINJA BLENDER  KITCHEN...   \n",
       "16                  JF    NIECO GRILL FOR SALE   USED   \n",
       "17                        WOLF      VENT HOOD     CFM   \n",
       "18  GREAT DEAL  VINOTEMP DUAL ZONE WINE COOLER    ...   \n",
       "19                           ESPRESSO RANCILIO SILVIA   \n",
       "\n",
       "                  matched_description  \n",
       "0        ( GAS APPLIANCE    , 86, 60)  \n",
       "1              ( BOX FAN    , 86, 11)  \n",
       "2          ( FUTON DRYER    , 86, 58)  \n",
       "3             ( BLENDER     , 69, 10)  \n",
       "4       ( MICROWAVE OVEN    , 86, 85)  \n",
       "5       ( COFFEE GRINDER    , 86, 24)  \n",
       "6       ( REFRIGERATOR     , 90, 101)  \n",
       "7          ( KITCHEN STOVE , 46, 114)  \n",
       "8          ( CEILING FAN    , 55, 17)  \n",
       "9              ( COOLER     , 90, 28)  \n",
       "10            ( FREEZER     , 90, 57)  \n",
       "11              (PRINTER    , 49, 34)  \n",
       "12             ( COOLER     , 90, 28)  \n",
       "13             ( COOLER     , 66, 28)  \n",
       "14         ( DISHWASHER     , 90, 42)  \n",
       "15         ( KARAOKE SET    , 86, 72)  \n",
       "16                   ( MOUSE, 54, 33)  \n",
       "17        ( EXHAUST HOOD    , 86, 51)  \n",
       "18  ( EVAPORATIVE COOLER    , 86, 50)  \n",
       "19          ( TIE PRESS    , 60, 123)  "
      ]
     },
     "execution_count": 283,
     "metadata": {},
     "output_type": "execute_result"
    }
   ],
   "source": [
    "full_df.head(20)"
   ]
  },
  {
   "cell_type": "markdown",
   "metadata": {},
   "source": [
    "There are some really great matches! Descriptions for things like 'cooler', 'dishwasher', 'freezer', 'refrigerator' are standardized. However, there are also mistakes :( As an example, take a look at line 13 - a listing for a jacuzzi is mistaken for a 'cooler'. On line 16, a grill is mistaken for a mouse....\n",
    "\n",
    "There are some things that can be done to improve this. For example, the 'gold standard' list can be improved by adding more items. Also, there are other string matching algorithms that can be used, alongside fuzzy wuzzy, and the outcomes from these algorithms can be compared. INstances where there is agreemend from multiple algorithms can be advanced forward and instances of discord taken out of the data set.\n",
    "\n",
    "No analysis is perfect, but here I chose to apply a threshold of 70 to remove observations that are a poor match."
   ]
  },
  {
   "cell_type": "code",
   "execution_count": 245,
   "metadata": {},
   "outputs": [
    {
     "data": {
      "text/html": [
       "<div>\n",
       "<style scoped>\n",
       "    .dataframe tbody tr th:only-of-type {\n",
       "        vertical-align: middle;\n",
       "    }\n",
       "\n",
       "    .dataframe tbody tr th {\n",
       "        vertical-align: top;\n",
       "    }\n",
       "\n",
       "    .dataframe thead th {\n",
       "        text-align: right;\n",
       "    }\n",
       "</style>\n",
       "<table border=\"1\" class=\"dataframe\">\n",
       "  <thead>\n",
       "    <tr style=\"text-align: right;\">\n",
       "      <th></th>\n",
       "      <th>item_description</th>\n",
       "      <th>price</th>\n",
       "      <th>date_listed</th>\n",
       "      <th>description_upper</th>\n",
       "      <th>matched_description</th>\n",
       "      <th>score</th>\n",
       "    </tr>\n",
       "  </thead>\n",
       "  <tbody>\n",
       "    <tr>\n",
       "      <td>0</td>\n",
       "      <td>36\" Thermador gas cooktop</td>\n",
       "      <td>$250</td>\n",
       "      <td>Mar 21</td>\n",
       "      <td>THERMADOR GAS COOKTOP</td>\n",
       "      <td>GAS APPLIANCE</td>\n",
       "      <td>86</td>\n",
       "    </tr>\n",
       "    <tr>\n",
       "      <td>1</td>\n",
       "      <td>Standing fan</td>\n",
       "      <td>$20</td>\n",
       "      <td>Mar 21</td>\n",
       "      <td>STANDING FAN</td>\n",
       "      <td>BOX FAN</td>\n",
       "      <td>86</td>\n",
       "    </tr>\n",
       "    <tr>\n",
       "      <td>2</td>\n",
       "      <td>Samsung Gas Dryer</td>\n",
       "      <td>$200</td>\n",
       "      <td>Mar 22</td>\n",
       "      <td>SAMSUNG GAS DRYER</td>\n",
       "      <td>FUTON DRYER</td>\n",
       "      <td>86</td>\n",
       "    </tr>\n",
       "    <tr>\n",
       "      <td>3</td>\n",
       "      <td>Ultrasonic Cleaner</td>\n",
       "      <td>$30</td>\n",
       "      <td>Apr  2</td>\n",
       "      <td>ULTRASONIC CLEANER</td>\n",
       "      <td>BLENDER</td>\n",
       "      <td>69</td>\n",
       "    </tr>\n",
       "    <tr>\n",
       "      <td>4</td>\n",
       "      <td>Talking Microwave - Hamilton Beach 0.9 cu ft -...</td>\n",
       "      <td>$50</td>\n",
       "      <td>Apr  5</td>\n",
       "      <td>TALKING MICROWAVE   HAMILTON BEACH     CU FT  ...</td>\n",
       "      <td>MICROWAVE OVEN</td>\n",
       "      <td>86</td>\n",
       "    </tr>\n",
       "  </tbody>\n",
       "</table>\n",
       "</div>"
      ],
      "text/plain": [
       "                                    item_description price date_listed  \\\n",
       "0                          36\" Thermador gas cooktop  $250      Mar 21   \n",
       "1                                       Standing fan   $20      Mar 21   \n",
       "2                                  Samsung Gas Dryer  $200      Mar 22   \n",
       "3                                 Ultrasonic Cleaner   $30      Apr  2   \n",
       "4  Talking Microwave - Hamilton Beach 0.9 cu ft -...   $50      Apr  5   \n",
       "\n",
       "                                   description_upper  matched_description  \\\n",
       "0                              THERMADOR GAS COOKTOP    GAS APPLIANCE       \n",
       "1                                       STANDING FAN          BOX FAN       \n",
       "2                                  SAMSUNG GAS DRYER      FUTON DRYER       \n",
       "3                                 ULTRASONIC CLEANER         BLENDER        \n",
       "4  TALKING MICROWAVE   HAMILTON BEACH     CU FT  ...   MICROWAVE OVEN       \n",
       "\n",
       "   score  \n",
       "0     86  \n",
       "1     86  \n",
       "2     86  \n",
       "3     69  \n",
       "4     86  "
      ]
     },
     "execution_count": 245,
     "metadata": {},
     "output_type": "execute_result"
    }
   ],
   "source": [
    "#clean up the outcome column\n",
    "for i in range(3):\n",
    "    full_df['Col {}'.format(i)] = full_df.matched_description.apply(itemgetter(i))\n",
    "    \n",
    "full_df_final = full_df.drop(['matched_description', 'Col 2'], axis = 1).rename(columns = {\n",
    "    'Col 0': 'matched_description',\n",
    "    'Col 1': 'score'\n",
    "})\n",
    "\n",
    "full_df_final.head()"
   ]
  },
  {
   "cell_type": "code",
   "execution_count": 246,
   "metadata": {},
   "outputs": [],
   "source": [
    "#keep observations where the score is above 70\n",
    "mask = full_df_final['score'] > 70\n",
    "analysis_df = full_df_final[mask]"
   ]
  },
  {
   "cell_type": "code",
   "execution_count": 264,
   "metadata": {},
   "outputs": [
    {
     "data": {
      "text/html": [
       "<div>\n",
       "<style scoped>\n",
       "    .dataframe tbody tr th:only-of-type {\n",
       "        vertical-align: middle;\n",
       "    }\n",
       "\n",
       "    .dataframe tbody tr th {\n",
       "        vertical-align: top;\n",
       "    }\n",
       "\n",
       "    .dataframe thead th {\n",
       "        text-align: right;\n",
       "    }\n",
       "</style>\n",
       "<table border=\"1\" class=\"dataframe\">\n",
       "  <thead>\n",
       "    <tr style=\"text-align: right;\">\n",
       "      <th></th>\n",
       "      <th>item_description</th>\n",
       "      <th>price</th>\n",
       "      <th>date_listed</th>\n",
       "      <th>description_upper</th>\n",
       "      <th>matched_description</th>\n",
       "      <th>score</th>\n",
       "    </tr>\n",
       "  </thead>\n",
       "  <tbody>\n",
       "    <tr>\n",
       "      <td>0</td>\n",
       "      <td>36\" Thermador gas cooktop</td>\n",
       "      <td>$250</td>\n",
       "      <td>Mar 21</td>\n",
       "      <td>THERMADOR GAS COOKTOP</td>\n",
       "      <td>GAS APPLIANCE</td>\n",
       "      <td>86</td>\n",
       "    </tr>\n",
       "    <tr>\n",
       "      <td>1</td>\n",
       "      <td>Standing fan</td>\n",
       "      <td>$20</td>\n",
       "      <td>Mar 21</td>\n",
       "      <td>STANDING FAN</td>\n",
       "      <td>BOX FAN</td>\n",
       "      <td>86</td>\n",
       "    </tr>\n",
       "    <tr>\n",
       "      <td>2</td>\n",
       "      <td>Samsung Gas Dryer</td>\n",
       "      <td>$200</td>\n",
       "      <td>Mar 22</td>\n",
       "      <td>SAMSUNG GAS DRYER</td>\n",
       "      <td>FUTON DRYER</td>\n",
       "      <td>86</td>\n",
       "    </tr>\n",
       "    <tr>\n",
       "      <td>4</td>\n",
       "      <td>Talking Microwave - Hamilton Beach 0.9 cu ft -...</td>\n",
       "      <td>$50</td>\n",
       "      <td>Apr  5</td>\n",
       "      <td>TALKING MICROWAVE   HAMILTON BEACH     CU FT  ...</td>\n",
       "      <td>MICROWAVE OVEN</td>\n",
       "      <td>86</td>\n",
       "    </tr>\n",
       "    <tr>\n",
       "      <td>5</td>\n",
       "      <td>Mr Coffee COFFEE MAKER</td>\n",
       "      <td>$30</td>\n",
       "      <td>Apr  5</td>\n",
       "      <td>MR COFFEE COFFEE MAKER</td>\n",
       "      <td>COFFEE GRINDER</td>\n",
       "      <td>86</td>\n",
       "    </tr>\n",
       "    <tr>\n",
       "      <td>...</td>\n",
       "      <td>...</td>\n",
       "      <td>...</td>\n",
       "      <td>...</td>\n",
       "      <td>...</td>\n",
       "      <td>...</td>\n",
       "      <td>...</td>\n",
       "    </tr>\n",
       "    <tr>\n",
       "      <td>114</td>\n",
       "      <td>Shark Steam Mop</td>\n",
       "      <td>$45</td>\n",
       "      <td>Apr  1</td>\n",
       "      <td>SHARK STEAM MOP</td>\n",
       "      <td>STEAM MOP</td>\n",
       "      <td>90</td>\n",
       "    </tr>\n",
       "    <tr>\n",
       "      <td>115</td>\n",
       "      <td>Refrigerator. Side by side.</td>\n",
       "      <td>$180</td>\n",
       "      <td>Mar 26</td>\n",
       "      <td>REFRIGERATOR  SIDE BY SIDE</td>\n",
       "      <td>REFRIGERATOR</td>\n",
       "      <td>90</td>\n",
       "    </tr>\n",
       "    <tr>\n",
       "      <td>116</td>\n",
       "      <td>Panasonic Microwave</td>\n",
       "      <td>$80</td>\n",
       "      <td>Apr  2</td>\n",
       "      <td>PANASONIC MICROWAVE</td>\n",
       "      <td>MICROWAVE OVEN</td>\n",
       "      <td>74</td>\n",
       "    </tr>\n",
       "    <tr>\n",
       "      <td>117</td>\n",
       "      <td>Appliance pickup</td>\n",
       "      <td>$0</td>\n",
       "      <td>Mar 29</td>\n",
       "      <td>APPLIANCE PICKUP</td>\n",
       "      <td>APPLIANCE PLUG</td>\n",
       "      <td>80</td>\n",
       "    </tr>\n",
       "    <tr>\n",
       "      <td>119</td>\n",
       "      <td>Refridgerator</td>\n",
       "      <td>$275</td>\n",
       "      <td>Mar  6</td>\n",
       "      <td>REFRIDGERATOR</td>\n",
       "      <td>REFRIGERATOR</td>\n",
       "      <td>96</td>\n",
       "    </tr>\n",
       "  </tbody>\n",
       "</table>\n",
       "<p>393 rows × 6 columns</p>\n",
       "</div>"
      ],
      "text/plain": [
       "                                      item_description price date_listed  \\\n",
       "0                            36\" Thermador gas cooktop  $250      Mar 21   \n",
       "1                                         Standing fan   $20      Mar 21   \n",
       "2                                    Samsung Gas Dryer  $200      Mar 22   \n",
       "4    Talking Microwave - Hamilton Beach 0.9 cu ft -...   $50      Apr  5   \n",
       "5                               Mr Coffee COFFEE MAKER   $30      Apr  5   \n",
       "..                                                 ...   ...         ...   \n",
       "114                                    Shark Steam Mop   $45      Apr  1   \n",
       "115                        Refrigerator. Side by side.  $180      Mar 26   \n",
       "116                                Panasonic Microwave   $80      Apr  2   \n",
       "117                                   Appliance pickup    $0      Mar 29   \n",
       "119                                      Refridgerator  $275      Mar  6   \n",
       "\n",
       "                                     description_upper matched_description  \\\n",
       "0                                THERMADOR GAS COOKTOP       GAS APPLIANCE   \n",
       "1                                         STANDING FAN             BOX FAN   \n",
       "2                                    SAMSUNG GAS DRYER         FUTON DRYER   \n",
       "4    TALKING MICROWAVE   HAMILTON BEACH     CU FT  ...      MICROWAVE OVEN   \n",
       "5                               MR COFFEE COFFEE MAKER      COFFEE GRINDER   \n",
       "..                                                 ...                 ...   \n",
       "114                                    SHARK STEAM MOP           STEAM MOP   \n",
       "115                         REFRIGERATOR  SIDE BY SIDE        REFRIGERATOR   \n",
       "116                                PANASONIC MICROWAVE      MICROWAVE OVEN   \n",
       "117                                   APPLIANCE PICKUP      APPLIANCE PLUG   \n",
       "119                                      REFRIDGERATOR        REFRIGERATOR   \n",
       "\n",
       "     score  \n",
       "0       86  \n",
       "1       86  \n",
       "2       86  \n",
       "4       86  \n",
       "5       86  \n",
       "..     ...  \n",
       "114     90  \n",
       "115     90  \n",
       "116     74  \n",
       "117     80  \n",
       "119     96  \n",
       "\n",
       "[393 rows x 6 columns]"
      ]
     },
     "execution_count": 264,
     "metadata": {},
     "output_type": "execute_result"
    }
   ],
   "source": [
    "#remove leading and lagging white space from the data frame columns\n",
    "analysis_df.apply(lambda x: x.str.strip() if x.dtype == \"object\" else x)"
   ]
  },
  {
   "cell_type": "markdown",
   "metadata": {},
   "source": [
    "We are left with 393 matches from our original 480 observations. I then write this data set into a csv file, which can be used for analysis at a later date or in a different place, without needing to redo the scraping and data cleaning/fuzzy matching step."
   ]
  },
  {
   "cell_type": "code",
   "execution_count": 265,
   "metadata": {},
   "outputs": [
    {
     "data": {
      "text/plain": [
       "(393, 6)"
      ]
     },
     "execution_count": 265,
     "metadata": {},
     "output_type": "execute_result"
    }
   ],
   "source": [
    "analysis_df.shape"
   ]
  },
  {
   "cell_type": "code",
   "execution_count": 248,
   "metadata": {},
   "outputs": [],
   "source": [
    "analysis_df.to_csv('appliances.csv')"
   ]
  },
  {
   "cell_type": "markdown",
   "metadata": {},
   "source": [
    "## So, what does get listed within a 50 mile radius of me and how much are these items going for?"
   ]
  },
  {
   "cell_type": "markdown",
   "metadata": {},
   "source": [
    "#### Let's start by identifying the top five items being listed and seeing how much these are going for."
   ]
  },
  {
   "cell_type": "code",
   "execution_count": 266,
   "metadata": {},
   "outputs": [
    {
     "data": {
      "text/plain": [
       " CLOTHES DRYER          51\n",
       " REFRIGERATOR           38\n",
       " AIR CONDITIONER        28\n",
       " MICROWAVE OVEN         21\n",
       " BOX FAN                20\n",
       "                        ..\n",
       " HAIR DRYER              1\n",
       " FAN HEATER              1\n",
       " WASHING MACHINE         1\n",
       " RADIO RECEIVER          1\n",
       " OIL HEATER              1\n",
       "Name: matched_description, Length: 70, dtype: int64"
      ]
     },
     "execution_count": 266,
     "metadata": {},
     "output_type": "execute_result"
    }
   ],
   "source": [
    "#What is the most sold appliance?\n",
    "analysis_df['matched_description'].value_counts()"
   ]
  },
  {
   "cell_type": "markdown",
   "metadata": {},
   "source": [
    "The top five items are:\n",
    "- Clothes dryer\n",
    "- Refrigerator\n",
    "- Air conditioner (not surprising in Texas!)\n",
    "- MIcrowave\n",
    "- Fan (again, not a surprise)"
   ]
  },
  {
   "cell_type": "code",
   "execution_count": 284,
   "metadata": {},
   "outputs": [
    {
     "name": "stderr",
     "output_type": "stream",
     "text": [
      "C:\\Users\\yakan\\Anaconda3\\lib\\site-packages\\ipykernel_launcher.py:1: SettingWithCopyWarning: \n",
      "A value is trying to be set on a copy of a slice from a DataFrame.\n",
      "Try using .loc[row_indexer,col_indexer] = value instead\n",
      "\n",
      "See the caveats in the documentation: http://pandas.pydata.org/pandas-docs/stable/user_guide/indexing.html#returning-a-view-versus-a-copy\n",
      "  \"\"\"Entry point for launching an IPython kernel.\n"
     ]
    }
   ],
   "source": [
    "#Here I need to once again strip the white space. Also, not sure what this warning is about...\n",
    "analysis_df['matched_description'] = analysis_df['matched_description'].str.strip()"
   ]
  },
  {
   "cell_type": "code",
   "execution_count": 291,
   "metadata": {},
   "outputs": [],
   "source": [
    "#grab the listing for the top 5 items and figure out the price distribution\n",
    "analysis_df_subset = analysis_df[(analysis_df['matched_description'] == 'CLOTHES DRYER') |\n",
    "                                 (analysis_df['matched_description'] == 'REFRIGERATOR') |\n",
    "                                 (analysis_df['matched_description'] == 'AIR CONDITIONER') |\n",
    "                                 (analysis_df['matched_description'] == 'MICROWAVE OVEN') |\n",
    "                                 (analysis_df['matched_description'] == 'BOX FAN')]"
   ]
  },
  {
   "cell_type": "code",
   "execution_count": 298,
   "metadata": {},
   "outputs": [
    {
     "name": "stderr",
     "output_type": "stream",
     "text": [
      "C:\\Users\\yakan\\Anaconda3\\lib\\site-packages\\ipykernel_launcher.py:2: SettingWithCopyWarning: \n",
      "A value is trying to be set on a copy of a slice from a DataFrame.\n",
      "Try using .loc[row_indexer,col_indexer] = value instead\n",
      "\n",
      "See the caveats in the documentation: http://pandas.pydata.org/pandas-docs/stable/user_guide/indexing.html#returning-a-view-versus-a-copy\n",
      "  \n"
     ]
    }
   ],
   "source": [
    "#convert price to an actual number\n",
    "analysis_df_subset['price'] = analysis_df_subset['price'].replace('[\\$,]', '', regex=True).astype(int)"
   ]
  },
  {
   "cell_type": "code",
   "execution_count": 302,
   "metadata": {},
   "outputs": [
    {
     "data": {
      "text/html": [
       "<div>\n",
       "<style scoped>\n",
       "    .dataframe tbody tr th:only-of-type {\n",
       "        vertical-align: middle;\n",
       "    }\n",
       "\n",
       "    .dataframe tbody tr th {\n",
       "        vertical-align: top;\n",
       "    }\n",
       "\n",
       "    .dataframe thead th {\n",
       "        text-align: right;\n",
       "    }\n",
       "</style>\n",
       "<table border=\"1\" class=\"dataframe\">\n",
       "  <thead>\n",
       "    <tr style=\"text-align: right;\">\n",
       "      <th></th>\n",
       "      <th>item_description</th>\n",
       "      <th>price</th>\n",
       "      <th>date_listed</th>\n",
       "      <th>description_upper</th>\n",
       "      <th>matched_description</th>\n",
       "      <th>score</th>\n",
       "    </tr>\n",
       "  </thead>\n",
       "  <tbody>\n",
       "    <tr>\n",
       "      <td>99</td>\n",
       "      <td>Gas Clothes Dryer</td>\n",
       "      <td>50</td>\n",
       "      <td>Mar 30</td>\n",
       "      <td>GAS CLOTHES DRYER</td>\n",
       "      <td>CLOTHES DRYER</td>\n",
       "      <td>95</td>\n",
       "    </tr>\n",
       "    <tr>\n",
       "      <td>107</td>\n",
       "      <td>Used Frigidaire Affinity Front Load Washer or ...</td>\n",
       "      <td>200</td>\n",
       "      <td>Apr 14</td>\n",
       "      <td>USED FRIGIDAIRE AFFINITY FRONT LOAD WASHER OR ...</td>\n",
       "      <td>CLOTHES DRYER</td>\n",
       "      <td>86</td>\n",
       "    </tr>\n",
       "    <tr>\n",
       "      <td>115</td>\n",
       "      <td>Refrigerator. Side by side.</td>\n",
       "      <td>180</td>\n",
       "      <td>Mar 26</td>\n",
       "      <td>REFRIGERATOR  SIDE BY SIDE</td>\n",
       "      <td>REFRIGERATOR</td>\n",
       "      <td>90</td>\n",
       "    </tr>\n",
       "    <tr>\n",
       "      <td>116</td>\n",
       "      <td>Panasonic Microwave</td>\n",
       "      <td>80</td>\n",
       "      <td>Apr  2</td>\n",
       "      <td>PANASONIC MICROWAVE</td>\n",
       "      <td>MICROWAVE OVEN</td>\n",
       "      <td>74</td>\n",
       "    </tr>\n",
       "    <tr>\n",
       "      <td>119</td>\n",
       "      <td>Refridgerator</td>\n",
       "      <td>275</td>\n",
       "      <td>Mar  6</td>\n",
       "      <td>REFRIDGERATOR</td>\n",
       "      <td>REFRIGERATOR</td>\n",
       "      <td>96</td>\n",
       "    </tr>\n",
       "  </tbody>\n",
       "</table>\n",
       "</div>"
      ],
      "text/plain": [
       "                                      item_description  price date_listed  \\\n",
       "99                                   Gas Clothes Dryer     50      Mar 30   \n",
       "107  Used Frigidaire Affinity Front Load Washer or ...    200      Apr 14   \n",
       "115                        Refrigerator. Side by side.    180      Mar 26   \n",
       "116                                Panasonic Microwave     80      Apr  2   \n",
       "119                                      Refridgerator    275      Mar  6   \n",
       "\n",
       "                                     description_upper matched_description  \\\n",
       "99                                   GAS CLOTHES DRYER       CLOTHES DRYER   \n",
       "107  USED FRIGIDAIRE AFFINITY FRONT LOAD WASHER OR ...       CLOTHES DRYER   \n",
       "115                        REFRIGERATOR  SIDE BY SIDE         REFRIGERATOR   \n",
       "116                                PANASONIC MICROWAVE      MICROWAVE OVEN   \n",
       "119                                      REFRIDGERATOR        REFRIGERATOR   \n",
       "\n",
       "     score  \n",
       "99      95  \n",
       "107     86  \n",
       "115     90  \n",
       "116     74  \n",
       "119     96  "
      ]
     },
     "execution_count": 302,
     "metadata": {},
     "output_type": "execute_result"
    }
   ],
   "source": [
    "analysis_df_subset.tail()"
   ]
  },
  {
   "cell_type": "code",
   "execution_count": 295,
   "metadata": {},
   "outputs": [],
   "source": [
    "import matplotlib.pyplot as plt\n",
    "import seaborn as sns"
   ]
  },
  {
   "cell_type": "markdown",
   "metadata": {},
   "source": [
    "#### It may be interesting to take a look at the price distribution of the top five most listed items in my area."
   ]
  },
  {
   "cell_type": "code",
   "execution_count": 300,
   "metadata": {},
   "outputs": [
    {
     "data": {
      "text/plain": [
       "<matplotlib.axes._subplots.AxesSubplot at 0x1acd6968488>"
      ]
     },
     "execution_count": 300,
     "metadata": {},
     "output_type": "execute_result"
    },
    {
     "data": {
      "image/png": "[encoded data removed]",
      "text/plain": [
       "<Figure size 1152x432 with 1 Axes>"
      ]
     },
     "metadata": {
      "needs_background": "light"
     },
     "output_type": "display_data"
    }
   ],
   "source": [
    "plt.figure(figsize=(16, 6))\n",
    "sns.boxplot(x='matched_description', y='price', data=analysis_df_subset)"
   ]
  },
  {
   "cell_type": "markdown",
   "metadata": {},
   "source": [
    "Some summary statistics to go along with the graph."
   ]
  },
  {
   "cell_type": "code",
   "execution_count": 307,
   "metadata": {},
   "outputs": [
    {
     "data": {
      "text/html": [
       "<div>\n",
       "<style scoped>\n",
       "    .dataframe tbody tr th:only-of-type {\n",
       "        vertical-align: middle;\n",
       "    }\n",
       "\n",
       "    .dataframe tbody tr th {\n",
       "        vertical-align: top;\n",
       "    }\n",
       "\n",
       "    .dataframe thead tr th {\n",
       "        text-align: left;\n",
       "    }\n",
       "\n",
       "    .dataframe thead tr:last-of-type th {\n",
       "        text-align: right;\n",
       "    }\n",
       "</style>\n",
       "<table border=\"1\" class=\"dataframe\">\n",
       "  <thead>\n",
       "    <tr>\n",
       "      <th></th>\n",
       "      <th colspan=\"8\" halign=\"left\">price</th>\n",
       "    </tr>\n",
       "    <tr>\n",
       "      <th></th>\n",
       "      <th>count</th>\n",
       "      <th>mean</th>\n",
       "      <th>std</th>\n",
       "      <th>min</th>\n",
       "      <th>25%</th>\n",
       "      <th>50%</th>\n",
       "      <th>75%</th>\n",
       "      <th>max</th>\n",
       "    </tr>\n",
       "    <tr>\n",
       "      <th>matched_description</th>\n",
       "      <th></th>\n",
       "      <th></th>\n",
       "      <th></th>\n",
       "      <th></th>\n",
       "      <th></th>\n",
       "      <th></th>\n",
       "      <th></th>\n",
       "      <th></th>\n",
       "    </tr>\n",
       "  </thead>\n",
       "  <tbody>\n",
       "    <tr>\n",
       "      <td>AIR CONDITIONER</td>\n",
       "      <td>28.0</td>\n",
       "      <td>221.535714</td>\n",
       "      <td>173.777525</td>\n",
       "      <td>1.0</td>\n",
       "      <td>49.25</td>\n",
       "      <td>300.0</td>\n",
       "      <td>300.00</td>\n",
       "      <td>799.0</td>\n",
       "    </tr>\n",
       "    <tr>\n",
       "      <td>BOX FAN</td>\n",
       "      <td>20.0</td>\n",
       "      <td>264.100000</td>\n",
       "      <td>91.210514</td>\n",
       "      <td>12.0</td>\n",
       "      <td>300.00</td>\n",
       "      <td>300.0</td>\n",
       "      <td>300.00</td>\n",
       "      <td>300.0</td>\n",
       "    </tr>\n",
       "    <tr>\n",
       "      <td>CLOTHES DRYER</td>\n",
       "      <td>51.0</td>\n",
       "      <td>456.019608</td>\n",
       "      <td>323.800710</td>\n",
       "      <td>0.0</td>\n",
       "      <td>200.00</td>\n",
       "      <td>450.0</td>\n",
       "      <td>674.50</td>\n",
       "      <td>1400.0</td>\n",
       "    </tr>\n",
       "    <tr>\n",
       "      <td>MICROWAVE OVEN</td>\n",
       "      <td>21.0</td>\n",
       "      <td>138.523810</td>\n",
       "      <td>154.645924</td>\n",
       "      <td>0.0</td>\n",
       "      <td>30.00</td>\n",
       "      <td>99.0</td>\n",
       "      <td>175.00</td>\n",
       "      <td>630.0</td>\n",
       "    </tr>\n",
       "    <tr>\n",
       "      <td>REFRIGERATOR</td>\n",
       "      <td>38.0</td>\n",
       "      <td>959.947368</td>\n",
       "      <td>1002.576760</td>\n",
       "      <td>15.0</td>\n",
       "      <td>218.75</td>\n",
       "      <td>704.5</td>\n",
       "      <td>1374.25</td>\n",
       "      <td>4321.0</td>\n",
       "    </tr>\n",
       "  </tbody>\n",
       "</table>\n",
       "</div>"
      ],
      "text/plain": [
       "                    price                                                \\\n",
       "                    count        mean          std   min     25%    50%   \n",
       "matched_description                                                       \n",
       "AIR CONDITIONER      28.0  221.535714   173.777525   1.0   49.25  300.0   \n",
       "BOX FAN              20.0  264.100000    91.210514  12.0  300.00  300.0   \n",
       "CLOTHES DRYER        51.0  456.019608   323.800710   0.0  200.00  450.0   \n",
       "MICROWAVE OVEN       21.0  138.523810   154.645924   0.0   30.00   99.0   \n",
       "REFRIGERATOR         38.0  959.947368  1002.576760  15.0  218.75  704.5   \n",
       "\n",
       "                                      \n",
       "                         75%     max  \n",
       "matched_description                   \n",
       "AIR CONDITIONER       300.00   799.0  \n",
       "BOX FAN               300.00   300.0  \n",
       "CLOTHES DRYER         674.50  1400.0  \n",
       "MICROWAVE OVEN        175.00   630.0  \n",
       "REFRIGERATOR         1374.25  4321.0  "
      ]
     },
     "execution_count": 307,
     "metadata": {},
     "output_type": "execute_result"
    }
   ],
   "source": [
    "analysis_df_subset[['matched_description', 'price']].groupby(['matched_description']).describe()"
   ]
  },
  {
   "cell_type": "markdown",
   "metadata": {},
   "source": [
    "Wow, there is a refrigerator that's selling for over $4K! Let's take a closer look..."
   ]
  },
  {
   "cell_type": "code",
   "execution_count": 301,
   "metadata": {},
   "outputs": [
    {
     "data": {
      "text/plain": [
       "item_description       WHIRLPOOL 21.4-CU FT SIDE-BY-SIDE REFRIGERATOR...\n",
       "price                                                               4321\n",
       "date_listed                                                       Mar 29\n",
       "description_upper      WHIRLPOOL      CU FT SIDE BY SIDE REFRIGERATOR...\n",
       "matched_description                                         REFRIGERATOR\n",
       "score                                                                100\n",
       "dtype: object"
      ]
     },
     "execution_count": 301,
     "metadata": {},
     "output_type": "execute_result"
    }
   ],
   "source": [
    "crazy_refrigerator = analysis_df_subset.groupby(['matched_description'])\n",
    "crazy_refrigerator.get_group('REFRIGERATOR').max()"
   ]
  },
  {
   "cell_type": "markdown",
   "metadata": {},
   "source": [
    "It's being listed for $4,321 and is a 'Whirlpool', which is generally an expensive brand. It would be interesting to make the scraping of the listings more advanced. For example, including the actual detailed description, which is usually attached to each item. This way we can identify if higher prices may correlate to an item being identified as 'new'. "
   ]
  },
  {
   "cell_type": "markdown",
   "metadata": {},
   "source": [
    "#### Are the most frequently listed items also the most expensive? Let's take a look at the distribution of all the prices."
   ]
  },
  {
   "cell_type": "code",
   "execution_count": 308,
   "metadata": {},
   "outputs": [
    {
     "name": "stderr",
     "output_type": "stream",
     "text": [
      "C:\\Users\\yakan\\Anaconda3\\lib\\site-packages\\ipykernel_launcher.py:2: SettingWithCopyWarning: \n",
      "A value is trying to be set on a copy of a slice from a DataFrame.\n",
      "Try using .loc[row_indexer,col_indexer] = value instead\n",
      "\n",
      "See the caveats in the documentation: http://pandas.pydata.org/pandas-docs/stable/user_guide/indexing.html#returning-a-view-versus-a-copy\n",
      "  \n"
     ]
    }
   ],
   "source": [
    "#convert price to an actual number for the full data set\n",
    "analysis_df['price'] = analysis_df['price'].replace('[\\$,]', '', regex=True).astype(int)"
   ]
  },
  {
   "cell_type": "code",
   "execution_count": 310,
   "metadata": {},
   "outputs": [
    {
     "data": {
      "text/plain": [
       "<matplotlib.axes._subplots.AxesSubplot at 0x1acd6f5ea88>"
      ]
     },
     "execution_count": 310,
     "metadata": {},
     "output_type": "execute_result"
    },
    {
     "data": {
      "image/png": "[encoded data removed]",
      "text/plain": [
       "<Figure size 1152x432 with 1 Axes>"
      ]
     },
     "metadata": {
      "needs_background": "light"
     },
     "output_type": "display_data"
    }
   ],
   "source": [
    "plt.figure(figsize=(16, 6))\n",
    "sns.distplot(analysis_df['price'])"
   ]
  },
  {
   "cell_type": "markdown",
   "metadata": {},
   "source": [
    "There are items selling for way more than the top 5 listed items are selling for. What are they?"
   ]
  },
  {
   "cell_type": "code",
   "execution_count": 314,
   "metadata": {},
   "outputs": [],
   "source": [
    "mask = analysis_df['price'] > 4000\n",
    "expensive = analysis_df[mask]"
   ]
  },
  {
   "cell_type": "code",
   "execution_count": 317,
   "metadata": {},
   "outputs": [
    {
     "data": {
      "text/html": [
       "<div>\n",
       "<style scoped>\n",
       "    .dataframe tbody tr th:only-of-type {\n",
       "        vertical-align: middle;\n",
       "    }\n",
       "\n",
       "    .dataframe tbody tr th {\n",
       "        vertical-align: top;\n",
       "    }\n",
       "\n",
       "    .dataframe thead th {\n",
       "        text-align: right;\n",
       "    }\n",
       "</style>\n",
       "<table border=\"1\" class=\"dataframe\">\n",
       "  <thead>\n",
       "    <tr style=\"text-align: right;\">\n",
       "      <th></th>\n",
       "      <th>item_description</th>\n",
       "      <th>price</th>\n",
       "      <th>date_listed</th>\n",
       "      <th>description_upper</th>\n",
       "      <th>matched_description</th>\n",
       "      <th>score</th>\n",
       "    </tr>\n",
       "  </thead>\n",
       "  <tbody>\n",
       "    <tr>\n",
       "      <td>20</td>\n",
       "      <td>Viking Commercial Double Oven</td>\n",
       "      <td>4200</td>\n",
       "      <td>Apr 10</td>\n",
       "      <td>VIKING COMMERCIAL DOUBLE OVEN</td>\n",
       "      <td>OVEN</td>\n",
       "      <td>90</td>\n",
       "    </tr>\n",
       "    <tr>\n",
       "      <td>76</td>\n",
       "      <td>Refrigerator cheap with warranty</td>\n",
       "      <td>4321</td>\n",
       "      <td>Mar 18</td>\n",
       "      <td>REFRIGERATOR CHEAP WITH WARRANTY</td>\n",
       "      <td>REFRIGERATOR</td>\n",
       "      <td>90</td>\n",
       "    </tr>\n",
       "    <tr>\n",
       "      <td>30</td>\n",
       "      <td>SINGER 300U DOUBLE NEEDLE CHAINSTITCH MACHINE ...</td>\n",
       "      <td>5000</td>\n",
       "      <td>Apr 13</td>\n",
       "      <td>SINGER    U DOUBLE NEEDLE CHAINSTITCH MACHINE ...</td>\n",
       "      <td>SEWING MACHINE</td>\n",
       "      <td>86</td>\n",
       "    </tr>\n",
       "    <tr>\n",
       "      <td>42</td>\n",
       "      <td>**Norlake Walk-in Freezer &amp; Walk-in Cooler **N...</td>\n",
       "      <td>7500</td>\n",
       "      <td>Mar 16</td>\n",
       "      <td>NORLAKE WALK IN FREEZER   WALK IN COOLER   N...</td>\n",
       "      <td>COOLER</td>\n",
       "      <td>90</td>\n",
       "    </tr>\n",
       "  </tbody>\n",
       "</table>\n",
       "</div>"
      ],
      "text/plain": [
       "                                     item_description  price date_listed  \\\n",
       "20                      Viking Commercial Double Oven   4200      Apr 10   \n",
       "76                   Refrigerator cheap with warranty   4321      Mar 18   \n",
       "30  SINGER 300U DOUBLE NEEDLE CHAINSTITCH MACHINE ...   5000      Apr 13   \n",
       "42  **Norlake Walk-in Freezer & Walk-in Cooler **N...   7500      Mar 16   \n",
       "\n",
       "                                    description_upper matched_description  \\\n",
       "20                      VIKING COMMERCIAL DOUBLE OVEN                OVEN   \n",
       "76                   REFRIGERATOR CHEAP WITH WARRANTY        REFRIGERATOR   \n",
       "30  SINGER    U DOUBLE NEEDLE CHAINSTITCH MACHINE ...      SEWING MACHINE   \n",
       "42    NORLAKE WALK IN FREEZER   WALK IN COOLER   N...              COOLER   \n",
       "\n",
       "    score  \n",
       "20     90  \n",
       "76     90  \n",
       "30     86  \n",
       "42     90  "
      ]
     },
     "execution_count": 317,
     "metadata": {},
     "output_type": "execute_result"
    }
   ],
   "source": [
    "expensive.sort_values(by = 'price').head()"
   ]
  },
  {
   "cell_type": "markdown",
   "metadata": {},
   "source": [
    "# Conclusion\n",
    "\n",
    "This was a really interesting exercise and it was fun to discover the items that are being sold on Craigslist in my area. I would like to improve on:\n",
    "- Change the single page scraping into an actual web crawler that would grab all of the information from all of the pages in one go and also grab the detailed information from each listing. These details would be fun to text mine.\n",
    "- Improve my string matching from the 'gold standard' list of appliances to improve performance.\n",
    "\n"
   ]
  },
  {
   "cell_type": "code",
   "execution_count": null,
   "metadata": {},
   "outputs": [],
   "source": []
  },
  {
   "cell_type": "code",
   "execution_count": null,
   "metadata": {},
   "outputs": [],
   "source": []
  },
  {
   "cell_type": "code",
   "execution_count": null,
   "metadata": {},
   "outputs": [],
   "source": []
  },
  {
   "cell_type": "code",
   "execution_count": null,
   "metadata": {},
   "outputs": [],
   "source": []
  },
  {
   "cell_type": "code",
   "execution_count": null,
   "metadata": {},
   "outputs": [],
   "source": []
  },
  {
   "cell_type": "code",
   "execution_count": null,
   "metadata": {},
   "outputs": [],
   "source": []
  },
  {
   "cell_type": "code",
   "execution_count": null,
   "metadata": {},
   "outputs": [],
   "source": []
  },
  {
   "cell_type": "markdown",
   "metadata": {},
   "source": [
    "#### Legacy code - ignore"
   ]
  },
  {
   "cell_type": "code",
   "execution_count": null,
   "metadata": {},
   "outputs": [],
   "source": [
    "# #get the first page of the east bay housing prices\n",
    "# response = get('https://houston.craigslist.org/search/ppa?search_distance=50&postal=77079') \n",
    "\n",
    "# from bs4 import BeautifulSoup\n",
    "# html_soup = BeautifulSoup(response.text, 'html.parser')\n",
    "\n",
    "# #get the macro-container for the appliance posts\n",
    "# posts = html_soup.find_all('li', class_= 'result-row')\n",
    "# print(type(posts)) #check that you get a ResultSet\n",
    "# print(len(posts)) #check that you get 120 (elements/page)"
   ]
  },
  {
   "cell_type": "code",
   "execution_count": 196,
   "metadata": {},
   "outputs": [],
   "source": [
    "# posts[0]"
   ]
  },
  {
   "cell_type": "code",
   "execution_count": 197,
   "metadata": {},
   "outputs": [],
   "source": [
    "#get item description\n",
    "# posts[0].find(class_ = 'result-title hdrlnk').text"
   ]
  },
  {
   "cell_type": "code",
   "execution_count": 198,
   "metadata": {},
   "outputs": [],
   "source": [
    "#get item price\n",
    "# posts[0].find(class_ = 'result-price').text"
   ]
  },
  {
   "cell_type": "code",
   "execution_count": 199,
   "metadata": {},
   "outputs": [],
   "source": [
    "# posts[0].find(class_ = 'result-date').text"
   ]
  },
  {
   "cell_type": "code",
   "execution_count": 200,
   "metadata": {},
   "outputs": [],
   "source": [
    "# items = []\n",
    "# prices = []\n",
    "# dates = []\n",
    "\n",
    "# for i in range(120):\n",
    "#     items.append(posts[i].find(class_ = 'result-title hdrlnk').text)\n",
    "#     prices.append(posts[i].find(class_ = 'result-price').text)\n",
    "#     dates.append(posts[i].find(class_ = 'result-date').text)"
   ]
  },
  {
   "cell_type": "code",
   "execution_count": 201,
   "metadata": {},
   "outputs": [],
   "source": [
    "# #create Series from items\n",
    "# items_col = pd.Series(items)\n",
    "\n",
    "# #create Series from prices\n",
    "# prices_col = pd.Series(prices)\n",
    "\n",
    "# #create Series from dates\n",
    "# dates_col = pd.Series(dates)"
   ]
  },
  {
   "cell_type": "code",
   "execution_count": 202,
   "metadata": {},
   "outputs": [],
   "source": [
    "# #concatenate\n",
    "# data_frame = pd.concat([items_col, prices_col, dates_col], axis = 1)"
   ]
  },
  {
   "cell_type": "code",
   "execution_count": 203,
   "metadata": {},
   "outputs": [],
   "source": [
    "# data_frame.rename(columns = {\n",
    "#                 0: 'item_description',\n",
    "#                 1: 'price',\n",
    "#                 2: 'date_listed'\n",
    "#             }, inplace = True)"
   ]
  },
  {
   "cell_type": "code",
   "execution_count": null,
   "metadata": {},
   "outputs": [],
   "source": []
  }
 ],
 "metadata": {
  "kernelspec": {
   "display_name": "Python 3",
   "language": "python",
   "name": "python3"
  },
  "language_info": {
   "codemirror_mode": {
    "name": "ipython",
    "version": 3
   },
   "file_extension": ".py",
   "mimetype": "text/x-python",
   "name": "python",
   "nbconvert_exporter": "python",
   "pygments_lexer": "ipython3",
   "version": "3.7.4"
  }
 },
 "nbformat": 4,
 "nbformat_minor": 2
}
